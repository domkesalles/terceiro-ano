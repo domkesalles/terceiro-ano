{
 "cells": [
  {
   "cell_type": "code",
   "execution_count": 1,
   "metadata": {},
   "outputs": [
    {
     "name": "stdout",
     "output_type": "stream",
     "text": [
      "1348384561968\n",
      "1348461391792\n",
      "True\n",
      "1348384561968\n",
      "1348384561968\n",
      "True\n",
      "1348384561968\n",
      "1348384561968\n",
      "True\n",
      "1348384561968\n",
      "1348384561968\n",
      "1348461274224\n",
      "True\n",
      "False\n",
      "1348384561968\n",
      "1348461274224\n",
      "1348461274224\n",
      "False\n",
      "True\n"
     ]
    }
   ],
   "source": [
    "a = 'cat'\n",
    "b = (b'cat').decode('utf-8')\n",
    "print(id(a))\n",
    "print(id(b))\n",
    "print(a == b)\n",
    "#-----------------------------\n",
    "a = 'cat'\n",
    "b = 'cat'\n",
    "print(id(a))\n",
    "print(id(b))\n",
    "print(a == b)\n",
    "#-----------------------------\n",
    "a = 'cat'\n",
    "b = a\n",
    "print(id(a))\n",
    "print(id(b))\n",
    "print(a == b)\n",
    "#-----------------------------\n",
    "a = 'cat'\n",
    "b = 'cat'\n",
    "c = 'dog'\n",
    "print(id(a))\n",
    "print(id(b))\n",
    "print(id(c))\n",
    "print(a == b)\n",
    "print(c == b)\n",
    "b = 'dog'\n",
    "print(id(a))\n",
    "print(id(b))\n",
    "print(id(c))\n",
    "print(a == b)\n",
    "print(c == b)"
   ]
  }
 ],
 "metadata": {
  "kernelspec": {
   "display_name": "Python 3",
   "language": "python",
   "name": "python3"
  },
  "language_info": {
   "codemirror_mode": {
    "name": "ipython",
    "version": 3
   },
   "file_extension": ".py",
   "mimetype": "text/x-python",
   "name": "python",
   "nbconvert_exporter": "python",
   "pygments_lexer": "ipython3",
   "version": "3.10.1"
  },
  "orig_nbformat": 4,
  "vscode": {
   "interpreter": {
    "hash": "606e1e68140238ba5165e2ede8c0c37de558511e6f0c44b4698dbb40f581f55a"
   }
  }
 },
 "nbformat": 4,
 "nbformat_minor": 2
}
