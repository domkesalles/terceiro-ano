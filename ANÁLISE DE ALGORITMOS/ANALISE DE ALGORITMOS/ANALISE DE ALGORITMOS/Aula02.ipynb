{
 "cells": [
  {
   "cell_type": "code",
   "execution_count": 1,
   "metadata": {},
   "outputs": [
    {
     "name": "stdout",
     "output_type": "stream",
     "text": [
      "Preço do produto bolinha éR$100,00\n",
      "Preço do produto bolinha é R$100,00\n"
     ]
    }
   ],
   "source": [
    "string_1 = 'Preço do produto bolinha é'\n",
    "\n",
    "string_2 = 'R$100,00'\n",
    "\n",
    "print(string_1 + string_2)\n",
    "\n",
    "print(string_1 + ' ' + string_2)"
   ]
  }
 ],
 "metadata": {
  "kernelspec": {
   "display_name": "Python 3",
   "language": "python",
   "name": "python3"
  },
  "language_info": {
   "codemirror_mode": {
    "name": "ipython",
    "version": 3
   },
   "file_extension": ".py",
   "mimetype": "text/x-python",
   "name": "python",
   "nbconvert_exporter": "python",
   "pygments_lexer": "ipython3",
   "version": "3.10.1"
  },
  "orig_nbformat": 4,
  "vscode": {
   "interpreter": {
    "hash": "606e1e68140238ba5165e2ede8c0c37de558511e6f0c44b4698dbb40f581f55a"
   }
  }
 },
 "nbformat": 4,
 "nbformat_minor": 2
}
