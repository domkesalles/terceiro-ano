{
 "cells": [
  {
   "cell_type": "code",
   "execution_count": 4,
   "metadata": {},
   "outputs": [
    {
     "name": "stdout",
     "output_type": "stream",
     "text": [
      "1675989565.521582 segundos\n",
      "<memory at 0x000001FFE1C67C40>\n",
      "13\n",
      "<memory at 0x000001FFE1C65A80>\n",
      "5\n",
      "Preço do produto bolinha é R$ 100,00\n",
      "Preço do produto bolinha é\n",
      "<memory at 0x000001FFE1C65240>\n",
      "13\n",
      "2198518607504\n",
      "Preço do produto bolinha é R$ 100,00\n",
      "<memory at 0x000001FFE1C67AC0>\n",
      "17\n",
      "<memory at 0x000001FFE1C64D00>\n",
      "13\n",
      "Preço do produto bolinha é R$ 100,00\n",
      "2198518607840\n",
      "1675989565.5245812 segundos\n",
      "0.0029993057250976562 segundos\n"
     ]
    }
   ],
   "source": [
    "import time\n",
    "\n",
    "tempo_inicial = (time.time())\n",
    "print(f\"{tempo_inicial} segundos\")\n",
    "product_price = \"Preço do produto bolinha é\"\n",
    "m1 = memoryview(b'product_price')\n",
    "print(m1)\n",
    "print(len(m1))\n",
    "price = \"R$ 100,00\"\n",
    "m2 = memoryview(b'price')\n",
    "print(m2)\n",
    "print(len(m2))\n",
    "print(product_price + \" \" + price)\n",
    "print(product_price)\n",
    "m3 = memoryview(b'product_price')\n",
    "print(m3)\n",
    "print(len(m3))\n",
    "print(id(product_price))\n",
    "new_product_price = (product_price + \" \" + price)\n",
    "print(new_product_price)\n",
    "m4 = memoryview(b'new_product_price')\n",
    "print(m4)\n",
    "print(len(m4))\n",
    "product_price = (new_product_price)\n",
    "m5 = memoryview(b'product_price')\n",
    "print(m5)\n",
    "print(len(m5))\n",
    "print(product_price)\n",
    "print(id(product_price))\n",
    "tempo_final = (time.time())\n",
    "print(f\"{tempo_final} segundos\")\n",
    "print(f\"{tempo_final - tempo_inicial} segundos\")"
   ]
  }
 ],
 "metadata": {
  "kernelspec": {
   "display_name": "Python 3",
   "language": "python",
   "name": "python3"
  },
  "language_info": {
   "codemirror_mode": {
    "name": "ipython",
    "version": 3
   },
   "file_extension": ".py",
   "mimetype": "text/x-python",
   "name": "python",
   "nbconvert_exporter": "python",
   "pygments_lexer": "ipython3",
   "version": "3.10.1"
  },
  "orig_nbformat": 4,
  "vscode": {
   "interpreter": {
    "hash": "606e1e68140238ba5165e2ede8c0c37de558511e6f0c44b4698dbb40f581f55a"
   }
  }
 },
 "nbformat": 4,
 "nbformat_minor": 2
}
