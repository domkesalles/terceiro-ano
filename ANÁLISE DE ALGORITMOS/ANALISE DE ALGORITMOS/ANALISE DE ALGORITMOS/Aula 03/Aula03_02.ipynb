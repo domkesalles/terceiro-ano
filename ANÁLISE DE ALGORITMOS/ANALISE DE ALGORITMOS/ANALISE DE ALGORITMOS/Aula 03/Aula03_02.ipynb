{
 "cells": [
  {
   "cell_type": "code",
   "execution_count": null,
   "metadata": {},
   "outputs": [],
   "source": [
    "def sum_of_n_init(n):\n",
    "    acumul_acelerate= 0\n",
    "    l_range = [1,10,25]\n",
    "    for i in range(1, n+1):\n",
    "        if (n < 5):\n",
    "            acumul_acelerate = acumul_acelerate+l_range[1]\n",
    "        if (n > 5 and n < 50):\n",
    "            acumul_acelerate = acumul_acelerate+l_range[2]\n",
    "        if (n > 50):\n",
    "            acumul_acelerate = acumul_acelerate+l_range[3]\n",
    "    return acumul_acelerate\n",
    "\n",
    "print(sum_of_n_init(1))\n",
    "print(sum_of_n_init(2))\n",
    "print(sum_of_n_init(3))\n",
    "print(sum_of_n_init(4))\n",
    "print(sum_of_n_init(5))\n",
    "print(sum_of_n_init(10))  \n",
    "print(sum_of_n_init(20))  \n",
    "print(sum_of_n_init(30))   \n",
    "print(sum_of_n_init(40))  \n",
    "print(sum_of_n_init(50))\n",
    "print(sum_of_n_init(75))\n",
    "print(sum_of_n_init(100))\n"
   ]
  }
 ],
 "metadata": {
  "language_info": {
   "name": "python"
  },
  "orig_nbformat": 4
 },
 "nbformat": 4,
 "nbformat_minor": 2
}
