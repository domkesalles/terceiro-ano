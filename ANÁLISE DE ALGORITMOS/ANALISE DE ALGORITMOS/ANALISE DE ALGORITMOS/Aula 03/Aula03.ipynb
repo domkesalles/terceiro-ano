{
 "cells": [
  {
   "cell_type": "code",
   "execution_count": null,
   "metadata": {},
   "outputs": [],
   "source": [
    "def sum_of_n_init(n):\n",
    "    acumul_acelerate= 0\n",
    "    counter = 0 \n",
    "    for i in range(1, n+1):\n",
    "        acumul_acelerate = acumul_acelerate + i\n",
    "        counter = counter + 1\n",
    "        if (counter >= 5 && counter < 10)\n",
    "            for i in range(acumul_acelerate, n+10)\n",
    "            acumul_acelerate = acumul_acelerate + i\n",
    "            counter = counter + 1\n",
    "            if (counter >= 10)\n",
    "                for i in range(acumul_acelerate, n+25)\n",
    "                acumul_acelerate = acumul_acelerate + i\n",
    "                counter = counter + 1\n",
    "    return acumul_acelerate\n",
    "print(sum_of_n_init(20))"
   ]
  }
 ],
 "metadata": {
  "language_info": {
   "name": "python"
  },
  "orig_nbformat": 4
 },
 "nbformat": 4,
 "nbformat_minor": 2
}
