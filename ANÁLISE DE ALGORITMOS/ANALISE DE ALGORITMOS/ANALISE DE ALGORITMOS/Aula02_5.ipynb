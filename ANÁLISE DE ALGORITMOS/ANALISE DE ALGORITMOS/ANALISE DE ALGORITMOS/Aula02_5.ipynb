{
 "cells": [
  {
   "cell_type": "code",
   "execution_count": 2,
   "metadata": {},
   "outputs": [
    {
     "name": "stdout",
     "output_type": "stream",
     "text": [
      "20\n",
      "69\n",
      "93\n",
      "28\n",
      "24\n",
      "50\n",
      "52\n",
      "104\n"
     ]
    }
   ],
   "source": [
    "import sys\n",
    "from decimal import Decimal\n",
    "\n",
    "print(len(\"O preço da bolinha e\"))\n",
    "print(sys.getsizeof(\"O preco da bolinha e\"))\n",
    "print(sys.getsizeof(\"O preço da bolinha é\"))\n",
    "print(sys.getsizeof(2))\n",
    "print(sys.getsizeof(2.2))\n",
    "print(sys.getsizeof('2'))\n",
    "print(sys.getsizeof('2.2'))\n",
    "print(sys.getsizeof(Decimal('2.2')))"
   ]
  }
 ],
 "metadata": {
  "kernelspec": {
   "display_name": "Python 3",
   "language": "python",
   "name": "python3"
  },
  "language_info": {
   "codemirror_mode": {
    "name": "ipython",
    "version": 3
   },
   "file_extension": ".py",
   "mimetype": "text/x-python",
   "name": "python",
   "nbconvert_exporter": "python",
   "pygments_lexer": "ipython3",
   "version": "3.10.1"
  },
  "orig_nbformat": 4,
  "vscode": {
   "interpreter": {
    "hash": "606e1e68140238ba5165e2ede8c0c37de558511e6f0c44b4698dbb40f581f55a"
   }
  }
 },
 "nbformat": 4,
 "nbformat_minor": 2
}
