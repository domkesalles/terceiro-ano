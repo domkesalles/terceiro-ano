{
 "cells": [
  {
   "cell_type": "code",
   "execution_count": 4,
   "metadata": {},
   "outputs": [
    {
     "name": "stdout",
     "output_type": "stream",
     "text": [
      "e\n",
      "produto\n",
      "Preço do produto é\n",
      "Preço do produto é R$100,00\n",
      "o\n",
      "eço do \n",
      "18\n",
      "P\n",
      "é\n"
     ]
    }
   ],
   "source": [
    "string_1 = 'Preço do produto é'\n",
    "\n",
    "string_2 = 'R$100,00'\n",
    "\n",
    "print(string_1 [2])\n",
    "print(string_1 [9:16])\n",
    "print(string_1 [:])\n",
    "print(string_1 [:] + \" \" + string_2 [:])\n",
    "print(string_1 [-3])\n",
    "print(string_1 [2:9])\n",
    "print(len(string_1))\n",
    "print(string_1[-18])\n",
    "print(string_1[17])"
   ]
  }
 ],
 "metadata": {
  "kernelspec": {
   "display_name": "Python 3",
   "language": "python",
   "name": "python3"
  },
  "language_info": {
   "codemirror_mode": {
    "name": "ipython",
    "version": 3
   },
   "file_extension": ".py",
   "mimetype": "text/x-python",
   "name": "python",
   "nbconvert_exporter": "python",
   "pygments_lexer": "ipython3",
   "version": "3.10.1"
  },
  "orig_nbformat": 4,
  "vscode": {
   "interpreter": {
    "hash": "606e1e68140238ba5165e2ede8c0c37de558511e6f0c44b4698dbb40f581f55a"
   }
  }
 },
 "nbformat": 4,
 "nbformat_minor": 2
}
